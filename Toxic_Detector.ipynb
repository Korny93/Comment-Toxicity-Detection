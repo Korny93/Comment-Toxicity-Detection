{
 "cells": [
  {
   "cell_type": "code",
   "execution_count": null,
   "id": "72bf0616",
   "metadata": {
    "tags": []
   },
   "outputs": [],
   "source": [
    "import os\n",
    "import pandas as pd\n",
    "import numpy as np\n",
    "import tensorflow as tf"
   ]
  },
  {
   "cell_type": "code",
   "execution_count": 2,
   "id": "1564475c",
   "metadata": {
    "tags": []
   },
   "outputs": [],
   "source": [
    "df=pd.read_csv(os.path.join('Dataset','train.csv'))"
   ]
  },
  {
   "cell_type": "code",
   "execution_count": null,
   "id": "6e2df161-40aa-4224-96c8-5b88a16b1473",
   "metadata": {
    "tags": []
   },
   "outputs": [],
   "source": [
    "df.head()"
   ]
  },
  {
   "cell_type": "code",
   "execution_count": 4,
   "id": "bbaee13e-2bfa-4324-baf5-3a79075de988",
   "metadata": {
    "tags": []
   },
   "outputs": [],
   "source": [
    "from tensorflow.keras.layers import TextVectorization"
   ]
  },
  {
   "cell_type": "code",
   "execution_count": 5,
   "id": "5803a6b9-4a9f-417a-9e4f-c2648d7af176",
   "metadata": {
    "tags": []
   },
   "outputs": [],
   "source": [
    "x=df['comment_text']\n",
    "y=df[df.columns[2:]].values"
   ]
  },
  {
   "cell_type": "code",
   "execution_count": null,
   "id": "1aa40e82-431a-4617-9f59-5a8347c72379",
   "metadata": {
    "tags": []
   },
   "outputs": [],
   "source": [
    "y.shape"
   ]
  },
  {
   "cell_type": "code",
   "execution_count": 7,
   "id": "de312aa0-da02-47eb-9ca8-51b199a11aaf",
   "metadata": {
    "tags": []
   },
   "outputs": [],
   "source": [
    "MAX_FEATURES=200000 #number of words in a vocab"
   ]
  },
  {
   "cell_type": "code",
   "execution_count": null,
   "id": "fc8278be-7740-4f98-ac1a-baab61da9b57",
   "metadata": {
    "tags": []
   },
   "outputs": [],
   "source": [
    "vectorizer=TextVectorization(max_tokens=MAX_FEATURES,\n",
    "                             output_sequence_length=1800,\n",
    "                             output_mode='int')"
   ]
  },
  {
   "cell_type": "code",
   "execution_count": 9,
   "id": "9211a524-225f-4fe6-9e69-bf299a59c1ff",
   "metadata": {
    "tags": []
   },
   "outputs": [],
   "source": [
    "vectorizer.adapt(x.values)"
   ]
  },
  {
   "cell_type": "code",
   "execution_count": 10,
   "id": "c8710d13-716a-4f4d-9a4b-e807938f1767",
   "metadata": {
    "tags": []
   },
   "outputs": [],
   "source": [
    "vectorized_text=vectorizer(x.values)"
   ]
  },
  {
   "cell_type": "code",
   "execution_count": 11,
   "id": "1b477421-2528-49d0-8cfc-96ca9170db39",
   "metadata": {
    "tags": []
   },
   "outputs": [],
   "source": [
    "#Data pipeline\n",
    "dataset=tf.data.Dataset.from_tensor_slices((vectorized_text,y))\n",
    "dataset=dataset.cache()\n",
    "dataset=dataset.shuffle(160000)\n",
    "dataset=dataset.batch(16)\n",
    "dataset=dataset.prefetch(8)"
   ]
  },
  {
   "cell_type": "code",
   "execution_count": 22,
   "id": "fc586df1-e2ca-4cd6-a551-212d84838634",
   "metadata": {
    "tags": []
   },
   "outputs": [],
   "source": [
    "train=dataset.take(int(len(dataset)*0.7))\n",
    "val=dataset.skip(int(len(dataset)*0.7)).take(int(len(dataset)*0.2))\n",
    "test=dataset.skip(int(len(dataset)*0.9)).take(int(len(dataset)*0.1))"
   ]
  },
  {
   "cell_type": "code",
   "execution_count": 23,
   "id": "4bc544d5-8bc5-4259-b075-574d5e634ae3",
   "metadata": {
    "tags": []
   },
   "outputs": [],
   "source": [
    "from tensorflow.keras.models import Sequential\n",
    "from tensorflow.keras.layers import LSTM,Bidirectional,Dropout,Dense,Embedding"
   ]
  },
  {
   "cell_type": "code",
   "execution_count": null,
   "id": "e1d4ee41-3841-4824-85f0-365bb80c5ae4",
   "metadata": {
    "collapsed": true,
    "jupyter": {
     "outputs_hidden": true
    },
    "tags": []
   },
   "outputs": [],
   "source": [
    "model=Sequential()\n",
    "model.add(Embedding(MAX_FEATURES+1,32))\n",
    "model.add(Bidirectional(LSTM(32,activation='tanh')))\n",
    "model.add(Dense(128,activation='relu'))\n",
    "model.add(Dense(256,activation='relu'))\n",
    "model.add(Dense(128,activation='relu'))\n",
    "model.add(Dense(6,activation='sigmoid'))\n",
    "          "
   ]
  },
  {
   "cell_type": "code",
   "execution_count": 27,
   "id": "07aaec8b-3715-4589-892f-342aead2162b",
   "metadata": {
    "tags": []
   },
   "outputs": [],
   "source": [
    "model.compile(loss='BinaryCrossentropy',optimizer='Adam')"
   ]
  },
  {
   "cell_type": "code",
   "execution_count": null,
   "id": "7ba8da9f-02a6-478d-b769-8c99e15d6cc1",
   "metadata": {
    "tags": []
   },
   "outputs": [],
   "source": [
    "model.summary()"
   ]
  },
  {
   "cell_type": "code",
   "execution_count": null,
   "id": "811b5917-f18b-4a97-a912-3fe780e03f0f",
   "metadata": {
    "collapsed": true,
    "jupyter": {
     "outputs_hidden": true
    },
    "tags": []
   },
   "outputs": [],
   "source": [
    "history=model.fit(train,epochs=10,validation_data=val)"
   ]
  },
  {
   "cell_type": "code",
   "execution_count": 48,
   "id": "d33756bf-5ca9-4db7-b7f5-2601a2e959fd",
   "metadata": {
    "tags": []
   },
   "outputs": [],
   "source": [
    "from matplotlib import pyplot as plt"
   ]
  },
  {
   "cell_type": "code",
   "execution_count": null,
   "id": "de601939-5290-4da5-9a2b-11ad4ce32f08",
   "metadata": {
    "tags": []
   },
   "outputs": [],
   "source": [
    "plt.figure(figsize=(8,5))\n",
    "pd.DataFrame(history.history).plot()\n",
    "plt.show()"
   ]
  },
  {
   "cell_type": "code",
   "execution_count": 30,
   "id": "b740ae9a-611d-4976-9d37-5eb1105c762c",
   "metadata": {
    "tags": []
   },
   "outputs": [],
   "source": [
    "from tensorflow.keras.metrics import Precision, Recall, CategoricalAccuracy"
   ]
  },
  {
   "cell_type": "code",
   "execution_count": 31,
   "id": "512f046c-510e-4714-9066-19e4c31b9384",
   "metadata": {
    "tags": []
   },
   "outputs": [],
   "source": [
    "pre=Precision()\n",
    "re=Recall()\n",
    "acc=CategoricalAccuracy()"
   ]
  },
  {
   "cell_type": "code",
   "execution_count": null,
   "id": "40030eda-c615-4f55-b846-65495e8cac13",
   "metadata": {
    "collapsed": true,
    "jupyter": {
     "outputs_hidden": true
    },
    "tags": []
   },
   "outputs": [],
   "source": [
    "for batch in test.as_numpy_iterator():\n",
    "    x_true,y_true=batch\n",
    "    yhat=model.predict(x_true)\n",
    "    y_true=y_true.flatten()\n",
    "    yhat=yhat.flatten()\n",
    "    pre.update_state(y_true,yhat)\n",
    "    re.update_state(y_true,yhat)\n",
    "    acc.update_state(y_true,yhat)"
   ]
  },
  {
   "cell_type": "code",
   "execution_count": null,
   "id": "6408d4f1-685f-4a79-8dee-ed2271d37e35",
   "metadata": {
    "tags": []
   },
   "outputs": [],
   "source": [
    "print(f'Precision: {pre.result().numpy()}, Recall: {re.result().numpy()}, Accuracy: {acc.result().numpy()}')"
   ]
  },
  {
   "cell_type": "code",
   "execution_count": 12,
   "id": "98e6838d-7541-4bc9-bfbd-4e936fe6df36",
   "metadata": {
    "tags": []
   },
   "outputs": [],
   "source": [
    "import tensorflow as tf\n",
    "import gradio as gr"
   ]
  },
  {
   "cell_type": "code",
   "execution_count": 38,
   "id": "dc205e16-0928-4f46-81f8-7b38fff42b67",
   "metadata": {
    "tags": []
   },
   "outputs": [],
   "source": [
    "model.save('toxic_detector.h5')"
   ]
  },
  {
   "cell_type": "code",
   "execution_count": null,
   "id": "77826a4b-f06f-41ef-afd2-6f144b0367e2",
   "metadata": {
    "tags": []
   },
   "outputs": [],
   "source": [
    "model=tf.keras.models.load_model('toxic_detector.h5')"
   ]
  },
  {
   "cell_type": "code",
   "execution_count": 14,
   "id": "5f5c51ac-4585-4c86-9cd4-9eeab2c774b9",
   "metadata": {
    "tags": []
   },
   "outputs": [],
   "source": [
    "def score_comment(comment):\n",
    "    vectorized=vectorizer([comment])\n",
    "    results=model.predict(vectorized)\n",
    "    \n",
    "    text=''\n",
    "    for idx,col in enumerate(df.columns[2:]):\n",
    "        text+='{}: {}\\n'.format(col,results[0][idx]>0.5)\n",
    "    return text"
   ]
  },
  {
   "cell_type": "code",
   "execution_count": null,
   "id": "0de64b30-005c-49a0-a958-0b2bd8560cb9",
   "metadata": {
    "tags": []
   },
   "outputs": [],
   "source": [
    "interface=gr.Interface(fn=score_comment,\n",
    "                       inputs=gr.inputs.Textbox(lines=4,placeholder='comment here'),\n",
    "                       outputs='text')"
   ]
  },
  {
   "cell_type": "code",
   "execution_count": null,
   "id": "005df5db-190e-4bd7-a67a-a031d22ca128",
   "metadata": {
    "tags": []
   },
   "outputs": [],
   "source": [
    "interface.launch(share=True)"
   ]
  },
  {
   "cell_type": "code",
   "execution_count": null,
   "id": "2cb036bc-5696-4429-a72f-25e13ccb602c",
   "metadata": {},
   "outputs": [],
   "source": []
  }
 ],
 "metadata": {
  "kernelspec": {
   "display_name": "Python 3 (ipykernel)",
   "language": "python",
   "name": "python3"
  },
  "language_info": {
   "codemirror_mode": {
    "name": "ipython",
    "version": 3
   },
   "file_extension": ".py",
   "mimetype": "text/x-python",
   "name": "python",
   "nbconvert_exporter": "python",
   "pygments_lexer": "ipython3",
   "version": "3.11.2"
  }
 },
 "nbformat": 4,
 "nbformat_minor": 5
}
